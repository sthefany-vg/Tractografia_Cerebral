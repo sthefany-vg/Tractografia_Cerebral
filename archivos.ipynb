{
 "cells": [
  {
   "cell_type": "code",
   "execution_count": 1,
   "metadata": {},
   "outputs": [],
   "source": [
    "#importar modulos necesarios\n",
    "import dipy\n",
    "import nibabel as nib \n",
    "import numpy as np\n",
    "import matplotlib.pyplot as plt\n",
    "\n",
    "from os.path import expanduser, join\n",
    "from time import time\n",
    "\n",
    "from dipy.align.reslice import reslice\n",
    "from dipy.align import motion_correction\n",
    "\n",
    "from dipy.core.histeq import histeq\n",
    "from dipy.core.gradients import gradient_table\n",
    "\n",
    "from dipy.data import fetch_sherbrooke_3shell, get_fnames, default_sphere\n",
    "\n",
    "from dipy.denoise.nlmeans import nlmeans\n",
    "from dipy.denoise.noise_estimate import piesno, estimate_sigma\n",
    "\n",
    "from dipy.direction import peaks_from_model\n",
    "\n",
    "from dipy.io import read_bvals_bvecs\n",
    "from dipy.io.image import load_nifti, save_nifti, load_nifti_data\n",
    "from dipy.io.streamline import save_trk\n",
    "from dipy.io.gradients import read_bvals_bvecs\n",
    "from dipy.io.stateful_tractogram import Space, StatefulTractogram\n",
    "\n",
    "from dipy.reconst.shm import CsaOdfModel\n",
    "from dipy.reconst.csdeconv import auto_response_ssst\n",
    "\n",
    "from dipy.segment.mask import median_otsu\n",
    "\n",
    "from dipy.tracking import utils\n",
    "from dipy.tracking.streamline import Streamlines\n",
    "from dipy.tracking.local_tracking import LocalTracking\n",
    "from dipy.tracking.stopping_criterion import ThresholdStoppingCriterion\n",
    "\n",
    "from dipy.viz import window, actor, has_fury, colormap"
   ]
  },
  {
   "cell_type": "markdown",
   "metadata": {},
   "source": [
    "Generalmente se utilizan tres tipos de archivos, un archivo Nifti con los datos ponderados por difusión y dos archivos de texto, uno con valores b y otro con vectores b."
   ]
  },
  {
   "cell_type": "code",
   "execution_count": 2,
   "metadata": {},
   "outputs": [
    {
     "name": "stdout",
     "output_type": "stream",
     "text": [
      "bids_project\\subjects\\sub-001\\dti\\sub-001_dti.nii.gz\n",
      "bids_project\\subjects\\sub-001\\dti\\sub-001_dti.bval\n",
      "bids_project\\subjects\\sub-001\\dti\\sub-001_dti.bvec\n"
     ]
    }
   ],
   "source": [
    "#para el sujeto 001 ponemos la ruta de la imagen DTI\n",
    "fdwi = ( r'bids_project\\subjects\\sub-001\\dti\\sub-001_dti.nii.gz')\n",
    "print(fdwi)\n",
    "fbval = ( r'bids_project\\subjects\\sub-001\\dti\\sub-001_dti.bval')\n",
    "print(fbval)\n",
    "fbvec = (r'bids_project\\subjects\\sub-001\\dti\\sub-001_dti.bvec')\n",
    "print(fbvec)"
   ]
  },
  {
   "cell_type": "markdown",
   "metadata": {},
   "source": [
    "Luego se cargan los conjuntos de datos de dMRI. Para ello se utiliza una biblioteca de Python llamada nibabel, permite leer y escribir formatos de archivos específicos de neuroimagen.                                                                     data: es una matriz 4D donde las primeras 3 dimensiones son las coordenadas de vóxel i, j, k y la última dimensión es el número de volúmenes no ponderados (S0) y ponderados por difusión."
   ]
  },
  {
   "cell_type": "code",
   "execution_count": 3,
   "metadata": {},
   "outputs": [
    {
     "ename": "FileNotFoundError",
     "evalue": "No such file or no access: 'bids_project/subjects/sub-001/dti/sub-001_dti.nii.gz'",
     "output_type": "error",
     "traceback": [
      "\u001b[1;31m---------------------------------------------------------------------------\u001b[0m",
      "\u001b[1;31mFileNotFoundError\u001b[0m                         Traceback (most recent call last)",
      "File \u001b[1;32mc:\\Users\\sthef\\AppData\\Local\\Programs\\Python\\Python311\\Lib\\site-packages\\nibabel\\loadsave.py:100\u001b[0m, in \u001b[0;36mload\u001b[1;34m(filename, **kwargs)\u001b[0m\n\u001b[0;32m     99\u001b[0m \u001b[38;5;28;01mtry\u001b[39;00m:\n\u001b[1;32m--> 100\u001b[0m     stat_result \u001b[38;5;241m=\u001b[39m \u001b[43mos\u001b[49m\u001b[38;5;241;43m.\u001b[39;49m\u001b[43mstat\u001b[49m\u001b[43m(\u001b[49m\u001b[43mfilename\u001b[49m\u001b[43m)\u001b[49m\n\u001b[0;32m    101\u001b[0m \u001b[38;5;28;01mexcept\u001b[39;00m \u001b[38;5;167;01mOSError\u001b[39;00m:\n",
      "\u001b[1;31mFileNotFoundError\u001b[0m: [WinError 3] El sistema no puede encontrar la ruta especificada: 'bids_project/subjects/sub-001/dti/sub-001_dti.nii.gz'",
      "\nDuring handling of the above exception, another exception occurred:\n",
      "\u001b[1;31mFileNotFoundError\u001b[0m                         Traceback (most recent call last)",
      "Cell \u001b[1;32mIn[3], line 1\u001b[0m\n\u001b[1;32m----> 1\u001b[0m data, affine, img \u001b[38;5;241m=\u001b[39m \u001b[43mload_nifti\u001b[49m\u001b[43m(\u001b[49m\u001b[43mfdwi\u001b[49m\u001b[43m,\u001b[49m\u001b[43m \u001b[49m\u001b[43mreturn_img\u001b[49m\u001b[38;5;241;43m=\u001b[39;49m\u001b[38;5;28;43;01mTrue\u001b[39;49;00m\u001b[43m)\u001b[49m\n\u001b[0;32m      2\u001b[0m \u001b[38;5;28mprint\u001b[39m(data\u001b[38;5;241m.\u001b[39mshape)\n",
      "File \u001b[1;32mc:\\Users\\sthef\\AppData\\Local\\Programs\\Python\\Python311\\Lib\\site-packages\\dipy\\io\\image.py:65\u001b[0m, in \u001b[0;36mload_nifti\u001b[1;34m(fname, return_img, return_voxsize, return_coords, as_ndarray)\u001b[0m\n\u001b[0;32m     32\u001b[0m \u001b[38;5;28;01mdef\u001b[39;00m \u001b[38;5;21mload_nifti\u001b[39m(fname, return_img\u001b[38;5;241m=\u001b[39m\u001b[38;5;28;01mFalse\u001b[39;00m, return_voxsize\u001b[38;5;241m=\u001b[39m\u001b[38;5;28;01mFalse\u001b[39;00m,\n\u001b[0;32m     33\u001b[0m                return_coords\u001b[38;5;241m=\u001b[39m\u001b[38;5;28;01mFalse\u001b[39;00m, as_ndarray\u001b[38;5;241m=\u001b[39m\u001b[38;5;28;01mTrue\u001b[39;00m):\n\u001b[0;32m     34\u001b[0m \u001b[38;5;250m    \u001b[39m\u001b[38;5;124;03m\"\"\"Load data and other information from a nifti file.\u001b[39;00m\n\u001b[0;32m     35\u001b[0m \n\u001b[0;32m     36\u001b[0m \u001b[38;5;124;03m    Parameters\u001b[39;00m\n\u001b[1;32m   (...)\u001b[0m\n\u001b[0;32m     63\u001b[0m \n\u001b[0;32m     64\u001b[0m \u001b[38;5;124;03m    \"\"\"\u001b[39;00m\n\u001b[1;32m---> 65\u001b[0m     img \u001b[38;5;241m=\u001b[39m \u001b[43mnib\u001b[49m\u001b[38;5;241;43m.\u001b[39;49m\u001b[43mload\u001b[49m\u001b[43m(\u001b[49m\u001b[43mfname\u001b[49m\u001b[43m)\u001b[49m\n\u001b[0;32m     66\u001b[0m     data \u001b[38;5;241m=\u001b[39m np\u001b[38;5;241m.\u001b[39masanyarray(img\u001b[38;5;241m.\u001b[39mdataobj) \u001b[38;5;28;01mif\u001b[39;00m as_ndarray \u001b[38;5;28;01melse\u001b[39;00m img\u001b[38;5;241m.\u001b[39mdataobj\n\u001b[0;32m     67\u001b[0m     vox_size \u001b[38;5;241m=\u001b[39m img\u001b[38;5;241m.\u001b[39mheader\u001b[38;5;241m.\u001b[39mget_zooms()[:\u001b[38;5;241m3\u001b[39m]\n",
      "File \u001b[1;32mc:\\Users\\sthef\\AppData\\Local\\Programs\\Python\\Python311\\Lib\\site-packages\\nibabel\\loadsave.py:102\u001b[0m, in \u001b[0;36mload\u001b[1;34m(filename, **kwargs)\u001b[0m\n\u001b[0;32m    100\u001b[0m     stat_result \u001b[38;5;241m=\u001b[39m os\u001b[38;5;241m.\u001b[39mstat(filename)\n\u001b[0;32m    101\u001b[0m \u001b[38;5;28;01mexcept\u001b[39;00m \u001b[38;5;167;01mOSError\u001b[39;00m:\n\u001b[1;32m--> 102\u001b[0m     \u001b[38;5;28;01mraise\u001b[39;00m \u001b[38;5;167;01mFileNotFoundError\u001b[39;00m(\u001b[38;5;124mf\u001b[39m\u001b[38;5;124m\"\u001b[39m\u001b[38;5;124mNo such file or no access: \u001b[39m\u001b[38;5;124m'\u001b[39m\u001b[38;5;132;01m{\u001b[39;00mfilename\u001b[38;5;132;01m}\u001b[39;00m\u001b[38;5;124m'\u001b[39m\u001b[38;5;124m\"\u001b[39m)\n\u001b[0;32m    103\u001b[0m \u001b[38;5;28;01mif\u001b[39;00m stat_result\u001b[38;5;241m.\u001b[39mst_size \u001b[38;5;241m<\u001b[39m\u001b[38;5;241m=\u001b[39m \u001b[38;5;241m0\u001b[39m:\n\u001b[0;32m    104\u001b[0m     \u001b[38;5;28;01mraise\u001b[39;00m ImageFileError(\u001b[38;5;124mf\u001b[39m\u001b[38;5;124m\"\u001b[39m\u001b[38;5;124mEmpty file: \u001b[39m\u001b[38;5;124m'\u001b[39m\u001b[38;5;132;01m{\u001b[39;00mfilename\u001b[38;5;132;01m}\u001b[39;00m\u001b[38;5;124m'\u001b[39m\u001b[38;5;124m\"\u001b[39m)\n",
      "\u001b[1;31mFileNotFoundError\u001b[0m: No such file or no access: 'bids_project/subjects/sub-001/dti/sub-001_dti.nii.gz'"
     ]
    }
   ],
   "source": [
    "data, affine, img = load_nifti(fdwi, return_img=True)\n",
    "print(data.shape)"
   ]
  },
  {
   "cell_type": "code",
   "execution_count": 4,
   "metadata": {},
   "outputs": [
    {
     "ename": "NameError",
     "evalue": "name 'data' is not defined",
     "output_type": "error",
     "traceback": [
      "\u001b[1;31m---------------------------------------------------------------------------\u001b[0m",
      "\u001b[1;31mNameError\u001b[0m                                 Traceback (most recent call last)",
      "Cell \u001b[1;32mIn[4], line 1\u001b[0m\n\u001b[1;32m----> 1\u001b[0m \u001b[43mdata\u001b[49m\n",
      "\u001b[1;31mNameError\u001b[0m: name 'data' is not defined"
     ]
    }
   ],
   "source": [
    "data"
   ]
  }
 ],
 "metadata": {
  "kernelspec": {
   "display_name": "Python 3",
   "language": "python",
   "name": "python3"
  },
  "language_info": {
   "codemirror_mode": {
    "name": "ipython",
    "version": 3
   },
   "file_extension": ".py",
   "mimetype": "text/x-python",
   "name": "python",
   "nbconvert_exporter": "python",
   "pygments_lexer": "ipython3",
   "version": "3.11.5"
  }
 },
 "nbformat": 4,
 "nbformat_minor": 2
}
